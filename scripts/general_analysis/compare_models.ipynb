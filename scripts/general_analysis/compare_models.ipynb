{
 "cells": [
  {
   "cell_type": "code",
   "execution_count": 1,
   "metadata": {},
   "outputs": [],
   "source": [
    "import pandas as pd\n",
    "import numpy as np\n",
    "import matplotlib.pyplot as plt\n",
    "import pylab as py\n",
    "from scipy import asarray as ar,exp\n",
    "from scipy import stats\n",
    "from scipy.optimize import curve_fit\n",
    "import seaborn as sns\n",
    "from sklearn.metrics import r2_score\n",
    "import statsmodels.api as sm"
   ]
  },
  {
   "cell_type": "markdown",
   "metadata": {},
   "source": [
    "Define parameters:"
   ]
  },
  {
   "cell_type": "code",
   "execution_count": 2,
   "metadata": {},
   "outputs": [],
   "source": [
    "dataset_selected = \"tcga:tcga-brca_female\"\n",
    "y_column = \"num_edges\""
   ]
  },
  {
   "cell_type": "markdown",
   "metadata": {},
   "source": [
    "Create test dataset:"
   ]
  },
  {
   "cell_type": "code",
   "execution_count": 3,
   "metadata": {},
   "outputs": [
    {
     "data": {
      "text/html": [
       "<div>\n",
       "<style scoped>\n",
       "    .dataframe tbody tr th:only-of-type {\n",
       "        vertical-align: middle;\n",
       "    }\n",
       "\n",
       "    .dataframe tbody tr th {\n",
       "        vertical-align: top;\n",
       "    }\n",
       "\n",
       "    .dataframe thead th {\n",
       "        text-align: right;\n",
       "    }\n",
       "</style>\n",
       "<table border=\"1\" class=\"dataframe\">\n",
       "  <thead>\n",
       "    <tr style=\"text-align: right;\">\n",
       "      <th></th>\n",
       "      <th>type_dataset</th>\n",
       "      <th>size</th>\n",
       "      <th>rep</th>\n",
       "      <th>num_edges_norm</th>\n",
       "      <th>num_edges</th>\n",
       "    </tr>\n",
       "  </thead>\n",
       "  <tbody>\n",
       "    <tr>\n",
       "      <th>1065</th>\n",
       "      <td>tcga:tcga-brca_female</td>\n",
       "      <td>20</td>\n",
       "      <td>1</td>\n",
       "      <td>0.000231</td>\n",
       "      <td>42227</td>\n",
       "    </tr>\n",
       "    <tr>\n",
       "      <th>1066</th>\n",
       "      <td>tcga:tcga-brca_female</td>\n",
       "      <td>20</td>\n",
       "      <td>2</td>\n",
       "      <td>0.000402</td>\n",
       "      <td>73434</td>\n",
       "    </tr>\n",
       "    <tr>\n",
       "      <th>1067</th>\n",
       "      <td>tcga:tcga-brca_female</td>\n",
       "      <td>20</td>\n",
       "      <td>3</td>\n",
       "      <td>0.000231</td>\n",
       "      <td>42190</td>\n",
       "    </tr>\n",
       "    <tr>\n",
       "      <th>1068</th>\n",
       "      <td>tcga:tcga-brca_female</td>\n",
       "      <td>20</td>\n",
       "      <td>4</td>\n",
       "      <td>0.000253</td>\n",
       "      <td>46246</td>\n",
       "    </tr>\n",
       "    <tr>\n",
       "      <th>1069</th>\n",
       "      <td>tcga:tcga-brca_female</td>\n",
       "      <td>20</td>\n",
       "      <td>5</td>\n",
       "      <td>0.000388</td>\n",
       "      <td>70826</td>\n",
       "    </tr>\n",
       "  </tbody>\n",
       "</table>\n",
       "</div>"
      ],
      "text/plain": [
       "               type_dataset  size  rep  num_edges_norm  num_edges\n",
       "1065  tcga:tcga-brca_female    20    1        0.000231      42227\n",
       "1066  tcga:tcga-brca_female    20    2        0.000402      73434\n",
       "1067  tcga:tcga-brca_female    20    3        0.000231      42190\n",
       "1068  tcga:tcga-brca_female    20    4        0.000253      46246\n",
       "1069  tcga:tcga-brca_female    20    5        0.000388      70826"
      ]
     },
     "execution_count": 3,
     "metadata": {},
     "output_type": "execute_result"
    }
   ],
   "source": [
    "topology_results_file = '/home/j.aguirreplans/Projects/Scipher/SampleSize/scripts/SampleSizeShiny/data/example_pearson_pval_0.05/topology_results_norm_divide.L_pearson_pval_0.05.txt'\n",
    "df = pd.read_csv(topology_results_file)[[\"type_dataset\", \"size\", \"rep\", \"num_edges\", \"unnorm\"]].sort_values(by = [\"type_dataset\", \"size\", \"rep\"]).rename(columns = {\"num_edges\" : \"num_edges_norm\", \"unnorm\" : \"num_edges\"})\n",
    "df = df[df['type_dataset'] == dataset_selected]\n",
    "df.head()"
   ]
  },
  {
   "cell_type": "code",
   "execution_count": 4,
   "metadata": {},
   "outputs": [],
   "source": [
    "#df = pd.read_csv(\"/home/j.aguirreplans/comparison_power_law.txt\")\n",
    "#df = df[df[\"model\"] == \"Mean\"][[\"type_dataset\", \"size\", \"rep\", \"num_edges\"]].sort_values(by = [\"type_dataset\", \"size\", \"rep\"])\n",
    "#df"
   ]
  },
  {
   "cell_type": "markdown",
   "metadata": {},
   "source": [
    "Calculate the mean across different repetitions for each size:"
   ]
  },
  {
   "cell_type": "code",
   "execution_count": 5,
   "metadata": {},
   "outputs": [
    {
     "data": {
      "text/html": [
       "<div>\n",
       "<style scoped>\n",
       "    .dataframe tbody tr th:only-of-type {\n",
       "        vertical-align: middle;\n",
       "    }\n",
       "\n",
       "    .dataframe tbody tr th {\n",
       "        vertical-align: top;\n",
       "    }\n",
       "\n",
       "    .dataframe thead th {\n",
       "        text-align: right;\n",
       "    }\n",
       "</style>\n",
       "<table border=\"1\" class=\"dataframe\">\n",
       "  <thead>\n",
       "    <tr style=\"text-align: right;\">\n",
       "      <th></th>\n",
       "      <th>num_edges</th>\n",
       "    </tr>\n",
       "    <tr>\n",
       "      <th>size</th>\n",
       "      <th></th>\n",
       "    </tr>\n",
       "  </thead>\n",
       "  <tbody>\n",
       "    <tr>\n",
       "      <th>20</th>\n",
       "      <td>54984.6</td>\n",
       "    </tr>\n",
       "    <tr>\n",
       "      <th>40</th>\n",
       "      <td>300197.2</td>\n",
       "    </tr>\n",
       "    <tr>\n",
       "      <th>60</th>\n",
       "      <td>909776.8</td>\n",
       "    </tr>\n",
       "    <tr>\n",
       "      <th>80</th>\n",
       "      <td>1721919.2</td>\n",
       "    </tr>\n",
       "    <tr>\n",
       "      <th>100</th>\n",
       "      <td>3331005.4</td>\n",
       "    </tr>\n",
       "  </tbody>\n",
       "</table>\n",
       "</div>"
      ],
      "text/plain": [
       "      num_edges\n",
       "size           \n",
       "20      54984.6\n",
       "40     300197.2\n",
       "60     909776.8\n",
       "80    1721919.2\n",
       "100   3331005.4"
      ]
     },
     "execution_count": 5,
     "metadata": {},
     "output_type": "execute_result"
    }
   ],
   "source": [
    "Sn = df.groupby('size').mean()[[y_column]]\n",
    "Sn.head()"
   ]
  },
  {
   "cell_type": "markdown",
   "metadata": {},
   "source": [
    "Create a lagged variable:"
   ]
  },
  {
   "cell_type": "code",
   "execution_count": 6,
   "metadata": {},
   "outputs": [
    {
     "data": {
      "text/html": [
       "<div>\n",
       "<style scoped>\n",
       "    .dataframe tbody tr th:only-of-type {\n",
       "        vertical-align: middle;\n",
       "    }\n",
       "\n",
       "    .dataframe tbody tr th {\n",
       "        vertical-align: top;\n",
       "    }\n",
       "\n",
       "    .dataframe thead th {\n",
       "        text-align: right;\n",
       "    }\n",
       "</style>\n",
       "<table border=\"1\" class=\"dataframe\">\n",
       "  <thead>\n",
       "    <tr style=\"text-align: right;\">\n",
       "      <th></th>\n",
       "      <th>num_edges</th>\n",
       "    </tr>\n",
       "    <tr>\n",
       "      <th>size</th>\n",
       "      <th></th>\n",
       "    </tr>\n",
       "  </thead>\n",
       "  <tbody>\n",
       "    <tr>\n",
       "      <th>20</th>\n",
       "      <td>NaN</td>\n",
       "    </tr>\n",
       "    <tr>\n",
       "      <th>40</th>\n",
       "      <td>54984.6</td>\n",
       "    </tr>\n",
       "    <tr>\n",
       "      <th>60</th>\n",
       "      <td>300197.2</td>\n",
       "    </tr>\n",
       "    <tr>\n",
       "      <th>80</th>\n",
       "      <td>909776.8</td>\n",
       "    </tr>\n",
       "    <tr>\n",
       "      <th>100</th>\n",
       "      <td>1721919.2</td>\n",
       "    </tr>\n",
       "  </tbody>\n",
       "</table>\n",
       "</div>"
      ],
      "text/plain": [
       "      num_edges\n",
       "size           \n",
       "20          NaN\n",
       "40      54984.6\n",
       "60     300197.2\n",
       "80     909776.8\n",
       "100   1721919.2"
      ]
     },
     "execution_count": 6,
     "metadata": {},
     "output_type": "execute_result"
    }
   ],
   "source": [
    "Sn_min_1 = Sn.shift(1)\n",
    "Sn_min_1.head()"
   ]
  },
  {
   "cell_type": "markdown",
   "metadata": {},
   "source": [
    "Calculate (Sn - Sn-1) / Sn-1:"
   ]
  },
  {
   "cell_type": "code",
   "execution_count": 7,
   "metadata": {},
   "outputs": [
    {
     "data": {
      "text/html": [
       "<div>\n",
       "<style scoped>\n",
       "    .dataframe tbody tr th:only-of-type {\n",
       "        vertical-align: middle;\n",
       "    }\n",
       "\n",
       "    .dataframe tbody tr th {\n",
       "        vertical-align: top;\n",
       "    }\n",
       "\n",
       "    .dataframe thead th {\n",
       "        text-align: right;\n",
       "    }\n",
       "</style>\n",
       "<table border=\"1\" class=\"dataframe\">\n",
       "  <thead>\n",
       "    <tr style=\"text-align: right;\">\n",
       "      <th></th>\n",
       "      <th>num_edges</th>\n",
       "    </tr>\n",
       "    <tr>\n",
       "      <th>size</th>\n",
       "      <th></th>\n",
       "    </tr>\n",
       "  </thead>\n",
       "  <tbody>\n",
       "    <tr>\n",
       "      <th>20</th>\n",
       "      <td>NaN</td>\n",
       "    </tr>\n",
       "    <tr>\n",
       "      <th>40</th>\n",
       "      <td>4.459660</td>\n",
       "    </tr>\n",
       "    <tr>\n",
       "      <th>60</th>\n",
       "      <td>2.030597</td>\n",
       "    </tr>\n",
       "    <tr>\n",
       "      <th>80</th>\n",
       "      <td>0.892683</td>\n",
       "    </tr>\n",
       "    <tr>\n",
       "      <th>100</th>\n",
       "      <td>0.934473</td>\n",
       "    </tr>\n",
       "  </tbody>\n",
       "</table>\n",
       "</div>"
      ],
      "text/plain": [
       "      num_edges\n",
       "size           \n",
       "20          NaN\n",
       "40     4.459660\n",
       "60     2.030597\n",
       "80     0.892683\n",
       "100    0.934473"
      ]
     },
     "execution_count": 7,
     "metadata": {},
     "output_type": "execute_result"
    }
   ],
   "source": [
    "#Sn_Snlag_diff = Sn.diff()\n",
    "#func = Sn_Snlag_diff / Sn\n",
    "func = (Sn - Sn_min_1) / Sn_min_1\n",
    "func.head()"
   ]
  },
  {
   "cell_type": "markdown",
   "metadata": {},
   "source": [
    "Define the size (x axis) and the number of edges (y axis):"
   ]
  },
  {
   "cell_type": "code",
   "execution_count": 8,
   "metadata": {},
   "outputs": [
    {
     "data": {
      "text/plain": [
       "Int64Index([  40,   60,   80,  100,  120,  140,  160,  180,  200,  220,  240,\n",
       "             260,  280,  300,  340,  380,  400,  420,  460,  480,  500,  520,\n",
       "             540,  580,  600,  620,  640,  660,  700,  720,  780,  800,  840,\n",
       "             880,  900,  940, 1000, 1020, 1060, 1080],\n",
       "           dtype='int64', name='size')"
      ]
     },
     "execution_count": 8,
     "metadata": {},
     "output_type": "execute_result"
    }
   ],
   "source": [
    "sizes = func[func[y_column] > 0].index\n",
    "sizes"
   ]
  },
  {
   "cell_type": "code",
   "execution_count": 9,
   "metadata": {},
   "outputs": [
    {
     "data": {
      "text/plain": [
       "size\n",
       "40     4.459660\n",
       "60     2.030597\n",
       "80     0.892683\n",
       "100    0.934473\n",
       "120    0.295325\n",
       "Name: num_edges, dtype: float64"
      ]
     },
     "execution_count": 9,
     "metadata": {},
     "output_type": "execute_result"
    }
   ],
   "source": [
    "num_edges = func[func[y_column] > 0][y_column]\n",
    "num_edges.head()"
   ]
  },
  {
   "cell_type": "markdown",
   "metadata": {},
   "source": [
    "Now we will fit the data into two different models: exponential decay and power law. The procedure to fit these models is explained in this [website](https://www.physics.drexel.edu/~valliere/PHYS160/Textbook/Chapter_6/6.6.4.html)."
   ]
  },
  {
   "cell_type": "markdown",
   "metadata": {},
   "source": [
    "We fit the data into a **exponential decay** model:\n",
    "\n",
    "$\\ y = b * exp(-lambda * n) $\n",
    "\n",
    "How? By using the natural logarithm in both sides of the equation, we are able to derive the following formula:\n",
    "\n",
    "$\\ ln(y) = ln(b) - lambda * n $\n",
    "\n",
    "If we apply a linear regression into the data using $\\ ln(y) $ vs. $\\ n $, we can get the values of lambda and b from the values of the slope and intercept:\n",
    "\n",
    "$\\ lambda = -slope $\n",
    "\n",
    "$\\ b = exp(intercept) $"
   ]
  },
  {
   "cell_type": "code",
   "execution_count": 10,
   "metadata": {},
   "outputs": [
    {
     "name": "stdout",
     "output_type": "stream",
     "text": [
      "Exponential decay fit --> lambda = 0.0034473962839244557; b = 0.45771029701635646\n"
     ]
    }
   ],
   "source": [
    "exp_decay_fit = np.polyfit(\n",
    "    sizes,\n",
    "    np.log(num_edges),\n",
    "    1\n",
    ")\n",
    "exp_decay_slope = exp_decay_fit[0]\n",
    "exp_decay_intercept = exp_decay_fit[1]\n",
    "exp_decay_lambda = -exp_decay_slope\n",
    "exp_decay_b = np.exp(exp_decay_intercept)\n",
    "print(f\"Exponential decay fit --> lambda = {exp_decay_lambda}; b = {exp_decay_b}\")"
   ]
  },
  {
   "cell_type": "markdown",
   "metadata": {},
   "source": [
    "We fit the data into a **power law** model:\n",
    "\n",
    "$\\ y = b * n^{alpha} $\n",
    "\n",
    "How? By using the natural logarithm in both sides of the equation, we are able to derive the following formula:\n",
    "\n",
    "$\\ ln(y) = ln(b) + alpha * ln(n) $\n",
    "\n",
    "If we apply a linear regression into the data using $\\ ln(y) $ vs. $\\ ln(n) $, we can get the values of alpha and b from the values of the slope and intercept:\n",
    "\n",
    "$\\ alpha = slope $\n",
    "\n",
    "$\\ b = exp(intercept) $"
   ]
  },
  {
   "cell_type": "code",
   "execution_count": 11,
   "metadata": {},
   "outputs": [
    {
     "name": "stdout",
     "output_type": "stream",
     "text": [
      "Power law fit --> alpha = -1.4684246340142346; b = 503.2872298098774\n"
     ]
    }
   ],
   "source": [
    "power_law_decay_fit = np.polyfit(\n",
    "    np.log(sizes),\n",
    "    np.log(num_edges),\n",
    "    1\n",
    ")\n",
    "power_law_slope = power_law_decay_fit[0]\n",
    "power_law_intercept = power_law_decay_fit[1]\n",
    "power_law_alpha = power_law_slope\n",
    "power_law_b = np.exp(power_law_intercept)\n",
    "print(f\"Power law fit --> alpha = {power_law_alpha}; b = {power_law_b}\")"
   ]
  },
  {
   "cell_type": "markdown",
   "metadata": {},
   "source": [
    "Now, we'll make plot comparing the different models:"
   ]
  },
  {
   "cell_type": "code",
   "execution_count": 13,
   "metadata": {},
   "outputs": [
    {
     "name": "stdout",
     "output_type": "stream",
     "text": [
      "0.12\n",
      "0.74\n",
      "0.0\n"
     ]
    },
    {
     "data": {
      "text/plain": [
       "<matplotlib.legend.Legend at 0x2b91ca1bdee0>"
      ]
     },
     "execution_count": 13,
     "metadata": {},
     "output_type": "execute_result"
    },
    {
     "data": {
      "image/png": "[encoded data removed]",
      "text/plain": [
       "<Figure size 432x288 with 1 Axes>"
      ]
     },
     "metadata": {
      "needs_background": "light"
     },
     "output_type": "display_data"
    }
   ],
   "source": [
    "# Calculate the values of the exponential decay model\n",
    "num_edges_exp_decay = exp_decay_b * np.exp(-exp_decay_lambda * sizes)\n",
    "\n",
    "# Calculate the R2 score of the exponential decay model\n",
    "r2_exp_decay = round(r2_score(num_edges, num_edges_exp_decay), 2)\n",
    "print(r2_exp_decay)\n",
    "\n",
    "# Calculate the values of the power law decay model\n",
    "num_edges_power_law = power_law_b * sizes**(power_law_alpha)\n",
    "\n",
    "# Calculate the R2 score of the power law decay model\n",
    "r2_power_law = round(r2_score(num_edges, num_edges_power_law), 2)\n",
    "print(r2_power_law)\n",
    "\n",
    "# Plot size vs. number of edges\n",
    "plt.scatter(\n",
    "    x = sizes,\n",
    "    y = num_edges, label = 'data'\n",
    ")\n",
    "\n",
    "# Plot the exponential decay model\n",
    "plt.plot(\n",
    "    sizes,\n",
    "    num_edges_exp_decay,\n",
    "    'k--',\n",
    "    label = f'Exponential decay ($R^2$ = {str(r2_exp_decay)})'\n",
    ")\n",
    "\n",
    "# Plot the power law decay model\n",
    "plt.plot(\n",
    "    sizes,\n",
    "    num_edges_power_law,\n",
    "    'b--',\n",
    "    label = f'Power law decay ($R^2$ = {str(r2_power_law)})'\n",
    ")\n",
    "\n",
    "# Plot a line (using mean(y)) representing constant discovery model\n",
    "constant_discovery_value = np.mean(num_edges)\n",
    "constant_discovery_values = [constant_discovery_value] * len(num_edges)\n",
    "r2_constant_discovery = round(r2_score(num_edges, constant_discovery_values), 2)\n",
    "print(r2_constant_discovery)\n",
    "plt.hlines(\n",
    "    xmin = 0,\n",
    "    xmax = 1080,\n",
    "    y = constant_discovery_value,\n",
    "    ls = '--',\n",
    "    color = 'r',\n",
    "    label = f'Constant Discovery ($R^2$ = {str(r2_constant_discovery)})'\n",
    ")\n",
    "\n",
    "# Plot axis info and legend\n",
    "plt.xlabel('Number of samples')\n",
    "plt.ylabel(r'$\\frac{S(n)-S(n-1)}{s(n-1)}$')\n",
    "plt.legend()"
   ]
  },
  {
   "cell_type": "markdown",
   "metadata": {},
   "source": [
    "Get mean and standard deviation function values in y axis:"
   ]
  },
  {
   "cell_type": "code",
   "execution_count": 12,
   "metadata": {},
   "outputs": [
    {
     "name": "stdout",
     "output_type": "stream",
     "text": [
      "31.73386967863532\n",
      "54.608483121848835\n"
     ]
    }
   ],
   "source": [
    "est = num_edges.mean()\n",
    "std = num_edges.std()\n",
    "print(est)\n",
    "print(std)"
   ]
  },
  {
   "cell_type": "markdown",
   "metadata": {},
   "source": [
    "Here we use non-linear least squares to fit the function, f, to data:"
   ]
  },
  {
   "cell_type": "code",
   "execution_count": 11,
   "metadata": {},
   "outputs": [
    {
     "name": "stdout",
     "output_type": "stream",
     "text": [
      "Fit parameters: \n",
      "=====================================================\n",
      "C =  1.0\n",
      "X_mean = 1.0\n",
      "\n",
      "\n"
     ]
    }
   ],
   "source": [
    "def gaus(X,C,X_mean,sigma):\n",
    "    return C*np.exp(-(X-X_mean)**2/(2*sigma**2))\n",
    "\n",
    "def expon(X,C,b):\n",
    "    return C*np.exp(-(b*X))\n",
    "\n",
    "mean=est\n",
    "sigma = std\n",
    "\n",
    "#Gaussian least-square fitting process\n",
    "# param_optimised,param_covariance_matrix = curve_fit(gaus,rr[rr['num_edges']>0].index,rr[rr['num_edges']>0]['num_edges'],p0=[max(rr[rr['num_edges']>0]['num_edges']),0.5,40],maxfev=50000,method='trf')\n",
    "\n",
    "# def expon(X,C,b):\n",
    "#     return C*np.exp(-(b*X))\n",
    "\n",
    "param_optimised_e, param_covariance_matrix_e = curve_fit(\n",
    "    expon,\n",
    "    sizes,\n",
    "    num_edges,\n",
    "    maxfev = 5000,\n",
    "    method = 'trf'\n",
    ")\n",
    "\n",
    "#print fit Gaussian parameters\n",
    "print(\"Fit parameters: \")\n",
    "print(\"=====================================================\")\n",
    "print(\"C = \", param_optimised_e[0])\n",
    "print(\"X_mean =\", param_optimised_e[1])\n",
    "print(\"\\n\")"
   ]
  },
  {
   "cell_type": "code",
   "execution_count": 12,
   "metadata": {},
   "outputs": [
    {
     "data": {
      "text/plain": [
       "<matplotlib.legend.Legend at 0x2b42e620fdc0>"
      ]
     },
     "execution_count": 12,
     "metadata": {},
     "output_type": "execute_result"
    },
    {
     "data": {
      "image/png": "[encoded data removed]",
      "text/plain": [
       "<Figure size 432x288 with 1 Axes>"
      ]
     },
     "metadata": {
      "needs_background": "light"
     },
     "output_type": "display_data"
    }
   ],
   "source": [
    "fig = plt.figure()\n",
    "\n",
    "plt.plot(\n",
    "    sizes,\n",
    "    expon(sizes, *param_optimised_e),\n",
    "    'r.:',\n",
    "    label = 'Gaussian fit'\n",
    ")\n",
    "plt.legend()"
   ]
  },
  {
   "cell_type": "code",
   "execution_count": 13,
   "metadata": {},
   "outputs": [
    {
     "data": {
      "image/png": "[encoded data removed]",
      "text/plain": [
       "<Figure size 432x288 with 1 Axes>"
      ]
     },
     "execution_count": 13,
     "metadata": {},
     "output_type": "execute_result"
    },
    {
     "data": {
      "image/png": "[encoded data removed]",
      "text/plain": [
       "<Figure size 432x288 with 1 Axes>"
      ]
     },
     "metadata": {
      "needs_background": "light"
     },
     "output_type": "display_data"
    }
   ],
   "source": [
    "sm.qqplot(num_edges, line ='45')"
   ]
  }
 ],
 "metadata": {
  "kernelspec": {
   "display_name": "SampleSizeEnv",
   "language": "python",
   "name": "python3"
  },
  "language_info": {
   "codemirror_mode": {
    "name": "ipython",
    "version": 3
   },
   "file_extension": ".py",
   "mimetype": "text/x-python",
   "name": "python",
   "nbconvert_exporter": "python",
   "pygments_lexer": "ipython3",
   "version": "3.9.12"
  },
  "orig_nbformat": 4
 },
 "nbformat": 4,
 "nbformat_minor": 2
}
