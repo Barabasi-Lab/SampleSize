{
 "cells": [
  {
   "cell_type": "code",
   "execution_count": 43,
   "id": "e3ed4488-8da4-4f94-a4c9-bce44914698a",
   "metadata": {},
   "outputs": [],
   "source": [
    "import sys, os\n",
    "import itertools\n",
    "import pandas as pd"
   ]
  },
  {
   "cell_type": "code",
   "execution_count": 5,
   "id": "f05ca92d-a9eb-4911-81fc-ac99b3620294",
   "metadata": {},
   "outputs": [],
   "source": [
    "def get_info_from_network_files(network_files_list, dataset_name=\"D\"):\n",
    "    \"\"\"\n",
    "    Get the information about the size and repetitions from a list of networks\n",
    "    \"\"\"\n",
    "    # Create a data frame to store the results\n",
    "    networks_df = pd.DataFrame(columns=[\"network\", \"dataset_name\", \"size\", \"rep\"])\n",
    "    for network in network_files_list:\n",
    "        network_name = '.'.join(network.split('.')[:-1])\n",
    "        elem = network_name.split('_')\n",
    "        size = elem[-3]\n",
    "        rep = elem[-1]\n",
    "        # Add the information to the main data frame\n",
    "        networks_df = networks_df.append(pd.DataFrame([[network, dataset_name, size, rep]], columns=[\"network\", \"dataset_name\", \"size\", \"rep\"], index=[network_name]))\n",
    "    return networks_df\n",
    "\n",
    "def fileExist(file):\n",
    "    \"\"\"\n",
    "    Checks if a file exists AND is a file\n",
    "    \"\"\"\n",
    "    return os.path.exists(file) and os.path.isfile(file)\n",
    "\n",
    "\n",
    "def create_directory(directory):\n",
    "    \"\"\"\n",
    "    Checks if a directory exists and if not, creates it\n",
    "    \"\"\"\n",
    "    try:\n",
    "        os.stat(directory)\n",
    "    except:\n",
    "        os.mkdir(directory)\n",
    "    return\n"
   ]
  },
  {
   "cell_type": "code",
   "execution_count": 6,
   "id": "15acec17-7729-4766-b1bb-be98c4243cf5",
   "metadata": {},
   "outputs": [],
   "source": [
    "networks_dir_D = \"/work/ccnr/j.aguirreplans/Scipher/SampleSize/networks_tcga/tumor/TCGA-BRCA\"\n",
    "networks_dir_N = \"/work/ccnr/j.aguirreplans/Scipher/SampleSize/networks_gtex/Breast.Mammary.Tissue\""
   ]
  },
  {
   "cell_type": "code",
   "execution_count": 33,
   "id": "355e6737-bd2c-4753-a8ee-dca555e95107",
   "metadata": {},
   "outputs": [],
   "source": [
    "networks_D = [f for f in os.listdir(networks_dir_D) if fileExist(os.path.join(networks_dir_D, f))]\n",
    "networks_N = [f for f in os.listdir(networks_dir_N) if fileExist(os.path.join(networks_dir_N, f))]\n",
    "networks_df = pd.concat([get_info_from_network_files(networks_D, dataset_name=\"D\"), get_info_from_network_files(networks_N, dataset_name=\"N\")])\n",
    "networks_df['size'] = networks_df['size'].astype(int)"
   ]
  },
  {
   "cell_type": "code",
   "execution_count": 52,
   "id": "014afae9-d35a-4014-ae0e-7edfe630da99",
   "metadata": {},
   "outputs": [],
   "source": [
    "sizes_d = set(networks_df[networks_df['dataset_name']=='D']['size'].tolist())\n",
    "sizes_n = set(networks_df[networks_df['dataset_name']=='N']['size'].tolist())\n",
    "shared_sizes = sorted(sizes_d & sizes_n)\n",
    "all_combinations = []\n",
    "for size in shared_sizes:\n",
    "    networks_d_selected = networks_df[(networks_df['size']==size) & (networks_df['dataset_name']=='D')]['network'].tolist()\n",
    "    networks_n_selected = networks_df[(networks_df['size']==size) & (networks_df['dataset_name']=='N')]['network'].tolist()\n",
    "    unique_combinations = list(itertools.product(networks_d_selected, networks_n_selected))\n",
    "    all_combinations = all_combinations + unique_combinations"
   ]
  },
  {
   "cell_type": "code",
   "execution_count": 56,
   "id": "1759742b-0620-49db-ad8e-6eff86fa5cad",
   "metadata": {},
   "outputs": [
    {
     "name": "stdout",
     "output_type": "stream",
     "text": [
      "540\n"
     ]
    }
   ],
   "source": [
    "for combination in all_combinations:\n",
    "    #print(combination[0], combination[1])\n",
    "    pass\n",
    "print(len(all_combinations))"
   ]
  },
  {
   "cell_type": "code",
   "execution_count": null,
   "id": "145f981f-b140-47c7-8a1b-d58eee754150",
   "metadata": {},
   "outputs": [],
   "source": []
  }
 ],
 "metadata": {
  "kernelspec": {
   "display_name": "Python 3",
   "language": "python",
   "name": "python3"
  },
  "language_info": {
   "codemirror_mode": {
    "name": "ipython",
    "version": 3
   },
   "file_extension": ".py",
   "mimetype": "text/x-python",
   "name": "python",
   "nbconvert_exporter": "python",
   "pygments_lexer": "ipython3",
   "version": "3.7.10"
  }
 },
 "nbformat": 4,
 "nbformat_minor": 5
}
