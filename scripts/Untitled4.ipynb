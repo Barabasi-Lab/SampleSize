{
 "cells": [
  {
   "cell_type": "code",
   "execution_count": null,
   "id": "608a943d-e573-448d-86d7-8bc874d4812c",
   "metadata": {},
   "outputs": [],
   "source": [
    "import sys, os\n",
    "import graph_tool.all as gt\n",
    "import networkx as nx\n",
    "import pandas as pd\n",
    "import time\n",
    "import NetworkMedicineToolbox.parse_ncbi as parse_ncbi\n",
    "import NetworkMedicineToolbox.parse_mesh as parse_mesh\n"
   ]
  },
  {
   "cell_type": "code",
   "execution_count": null,
   "id": "a5a6fbcb-7279-4ab4-9ac4-eb91062bf664",
   "metadata": {},
   "outputs": [],
   "source": [
    "scratch_data_dir = '/scratch/j.aguirreplans/Scipher/SampleSize'\n",
    "wto_results_dir = os.path.join(scratch_data_dir, 'networks_nonresponders_wto_N100')\n",
    "global_network_file = os.path.join(wto_results_dir, 'wto_RNAseq_NonResponders_all.net')\n"
   ]
  },
  {
   "cell_type": "code",
   "execution_count": null,
   "id": "a97b9d82-a340-4377-a11f-24bd80d4ccbe",
   "metadata": {},
   "outputs": [],
   "source": [
    "start = time.time() # Starting time\n",
    "co = pd.read_csv(global_network_file)\n",
    "end = time.time() # End time\n",
    "print(\"Runtime for loading the dataframe is {}\".format(end-start))\n"
   ]
  },
  {
   "cell_type": "code",
   "execution_count": null,
   "id": "e8077a6c-1224-477b-81ed-80fe7138c3d7",
   "metadata": {},
   "outputs": [],
   "source": [
    "# Filter by p-value\n",
    "start = time.time() # Starting time\n",
    "co_filt = co[co[\"pval.adj\"] < 0.001]\n",
    "end = time.time() # End time\n",
    "print(\"Runtime for filtering the dataframe is {}\".format(end-start))\n"
   ]
  },
  {
   "cell_type": "code",
   "execution_count": null,
   "id": "9ab4d8c5-8e17-4b8f-be72-e2cff70aa759",
   "metadata": {},
   "outputs": [],
   "source": [
    "co_filt.shape"
   ]
  },
  {
   "cell_type": "code",
   "execution_count": null,
   "id": "5008320c-29e2-4aa8-974a-d1c8b9cd88dc",
   "metadata": {},
   "outputs": [],
   "source": [
    "start = time.time() # Starting time\n",
    "g_filt = gt.Graph(directed=False)\n",
    "ids_filt = g_filt.add_edge_list(co_filt[[\"Node.1\", \"Node.2\"]].values, hashed=True)\n",
    "end = time.time() # End time\n",
    "print(\"Runtime for filtering the dataframe is {}\".format(end-start))\n"
   ]
  },
  {
   "cell_type": "code",
   "execution_count": null,
   "id": "1da21edc-bf3a-4c96-8401-a7826ce4e527",
   "metadata": {},
   "outputs": [],
   "source": [
    "start = time.time() # Starting time\n",
    "print('Global gene co-expression network: {} nodes and {} edges'.format(len(g_filt.get_vertices()), len(g_filt.get_edges())))\n",
    "end = time.time() # End time\n",
    "print(\"Runtime for printing the numbers of the network is {}\".format(end-start))\n"
   ]
  },
  {
   "cell_type": "code",
   "execution_count": null,
   "id": "342306d0-cf37-497f-b847-79fd70776aad",
   "metadata": {},
   "outputs": [],
   "source": [
    "# Parse the whole network without filtering\n",
    "start = time.time() # Starting time\n",
    "g = gt.Graph(directed=False)\n",
    "ids = g.add_edge_list(co[[\"Node.1\", \"Node.2\"]].values, hashed=True)\n",
    "end = time.time() # End time\n",
    "print(\"Runtime for creating the network is {}\".format(end-start))\n"
   ]
  },
  {
   "cell_type": "code",
   "execution_count": null,
   "id": "c2b25c8a-fd24-47ec-aa20-081cd7f35717",
   "metadata": {},
   "outputs": [],
   "source": [
    "start = time.time() # Starting time\n",
    "print('Global gene co-expression network: {} nodes and {} edges'.format(len(g.get_vertices()), len(g.get_edges())))\n",
    "end = time.time() # End time\n",
    "print(\"Runtime for printing the numbers of the network is {}\".format(end-start))\n"
   ]
  },
  {
   "cell_type": "code",
   "execution_count": null,
   "id": "9dcf7766-8761-4d22-8fbe-7aff1cae40a6",
   "metadata": {},
   "outputs": [],
   "source": [
    "# Filter the network using graph-tools instead of using pandas\n",
    "start = time.time() # Starting time\n",
    "filtered_network = gt.GraphView(network, efilt=lambda e: network_pval_adj_prop[e] < 0.001)\n",
    "end = time.time() # End time\n",
    "print(\"Runtime for filtering the network is {}\".format(end-start))\n"
   ]
  },
  {
   "cell_type": "code",
   "execution_count": null,
   "id": "11a848b1-f07c-4f51-a524-3042eb53707c",
   "metadata": {},
   "outputs": [],
   "source": []
  },
  {
   "cell_type": "code",
   "execution_count": null,
   "id": "cbca1612-c8ec-465d-bb5f-ab2c7d5c3fc9",
   "metadata": {},
   "outputs": [],
   "source": [
    "home_data_dir = '/home/j.aguirreplans/Projects/Scipher/SampleSize/data'\n",
    "databases_dir = '/home/j.aguirreplans/Databases'\n",
    "mesh_file = os.path.join(databases_dir, 'MeSH/mtrees2021.bin')\n"
   ]
  },
  {
   "cell_type": "code",
   "execution_count": null,
   "id": "fb3d8aed-7096-4b13-b427-cfa6955ccb22",
   "metadata": {},
   "outputs": [],
   "source": [
    "m = parse_mesh.MESH(mesh_file)\n",
    "g = m.get_ontology(lower_concepts=True)\n"
   ]
  },
  {
   "cell_type": "code",
   "execution_count": null,
   "id": "c2d37cbb-7e1f-44e3-a4e2-d98fc51e7939",
   "metadata": {},
   "outputs": [],
   "source": [
    "for root_concept_id in m.root_concept_ids:\n",
    "    root_concept_name = m.concept_id_to_concept[root_concept_id]\n",
    "    #print(root_concept_id, root_concept_name)\n"
   ]
  },
  {
   "cell_type": "code",
   "execution_count": null,
   "id": "59951ab5-89a5-4a0b-8138-c706c23057ad",
   "metadata": {},
   "outputs": [],
   "source": [
    "ncbi_gene_info_file = os.path.join(home_data_dir, 'Homo_sapiens.gene_info')\n",
    "geneid_to_genesymbol, genesymbol_to_geneid = parse_ncbi.get_geneid_symbol_mapping(ncbi_gene_info_file)\n"
   ]
  },
  {
   "cell_type": "code",
   "execution_count": null,
   "id": "95e99016-4b84-4bc6-9540-5a61b3282b23",
   "metadata": {},
   "outputs": [],
   "source": [
    "# Parse disease genes associated to diseases with 20 genes or more\n",
    "disease_genes_file = '/home/j.aguirreplans/Projects/Scipher/SampleSize/data/Guney2016_GenesDisease.tsv'\n",
    "disease2genes = {}\n",
    "disease2types = {}\n",
    "for i in open(disease_genes_file).readlines():\n",
    "    v = i.rstrip().split('\\t')\n",
    "    disease = v[1]\n",
    "    genes = v[2:]\n",
    "    if len(genes) > 19:\n",
    "        #disease2genes[disease] = [int(i) for i in genes]\n",
    "        disease2genes[disease] = [geneid_to_genesymbol[i] for i in genes if str(i) in geneid_to_genesymbol]\n",
    "        if disease in m.concept_to_concept_ids:\n",
    "            concept_ids = m.concept_to_concept_ids[disease]\n",
    "            for concept_id in concept_ids:\n",
    "                root_concept_id = concept_id.split('.')[0]\n",
    "                root_concept = m.concept_id_to_concept[root_concept_id]\n",
    "                disease2types.setdefault(disease, set()).add(root_concept)\n",
    "                #print(concept_id, disease, root_concept_id, root_concept)\n"
   ]
  },
  {
   "cell_type": "code",
   "execution_count": null,
   "id": "4d9610a9-2ea8-45ce-b423-e6af916b197e",
   "metadata": {},
   "outputs": [],
   "source": [
    "for node in g.nodes():\n",
    "    print(node, [x for x in g.neighbors(node)])"
   ]
  },
  {
   "cell_type": "code",
   "execution_count": null,
   "id": "afab2523-b68a-4ed5-8960-89b9fb92eb6e",
   "metadata": {},
   "outputs": [],
   "source": []
  }
 ],
 "metadata": {
  "kernelspec": {
   "display_name": "Python 3",
   "language": "python",
   "name": "python3"
  },
  "language_info": {
   "codemirror_mode": {
    "name": "ipython",
    "version": 3
   },
   "file_extension": ".py",
   "mimetype": "text/x-python",
   "name": "python",
   "nbconvert_exporter": "python",
   "pygments_lexer": "ipython3",
   "version": "3.7.10"
  }
 },
 "nbformat": 4,
 "nbformat_minor": 5
}
