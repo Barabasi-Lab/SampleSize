{
 "cells": [
  {
   "cell_type": "markdown",
   "metadata": {},
   "source": [
    "### Sample size effect in gene co-expression networks (with graph-tool)"
   ]
  },
  {
   "cell_type": "markdown",
   "metadata": {},
   "source": [
    "- Author: Joaquim Aguirre Plans<br>\n",
    "- Institution: Northeastern University"
   ]
  },
  {
   "cell_type": "markdown",
   "metadata": {},
   "source": [
    "Load libraries:"
   ]
  },
  {
   "cell_type": "code",
   "execution_count": 1,
   "metadata": {},
   "outputs": [
    {
     "name": "stderr",
     "output_type": "stream",
     "text": [
      "/home/j.aguirreplans/.conda/envs/ScipherSampleSizeEnv/lib/python3.7/site-packages/graph_tool/draw/cairo_draw.py:1494: RuntimeWarning: Error importing Gtk module: No module named 'gi'; GTK+ drawing will not work.\n",
      "  warnings.warn(msg, RuntimeWarning)\n"
     ]
    },
    {
     "name": "stdout",
     "output_type": "stream",
     "text": [
      "GenRev not found, steiner wont work\n",
      "Import error: Negex. Using keyword matching instead\n",
      "Import error: Funcassociate. Make sure that funcassociate is in toolbox!\n",
      "DIAMOnD not found and thus will not be available!\n"
     ]
    }
   ],
   "source": [
    "import sys, os\n",
    "import graph_tool.all as gt\n",
    "import matplotlib.pyplot as plt\n",
    "import multiprocessing as mp\n",
    "import networkx as nx\n",
    "import numpy as np\n",
    "import pandas as pd\n",
    "import pylab\n",
    "import random\n",
    "import seaborn as sns\n",
    "import scipy\n",
    "import time\n",
    "import NetworkMedicineToolbox.wrappers as wrappers\n",
    "import NetworkMedicineToolbox.network_utilities as network_utilities\n",
    "import coexpression_analysis_functions_graphtool as cagt\n",
    "import coexpression_analysis_functions_networkx as canx\n",
    "random.seed(1510)"
   ]
  },
  {
   "cell_type": "markdown",
   "metadata": {},
   "source": [
    "## Sample size effect in network size and composition"
   ]
  },
  {
   "cell_type": "markdown",
   "metadata": {},
   "source": [
    "In this part, I check the effect of the sample size in the size of gene co-expression networks."
   ]
  },
  {
   "cell_type": "code",
   "execution_count": 2,
   "metadata": {},
   "outputs": [],
   "source": [
    "# Define directories and files\n",
    "scratch_data_dir = '/scratch/j.aguirreplans/Scipher/SampleSize'\n",
    "home_data_dir = '/home/j.aguirreplans/Projects/Scipher/SampleSize/data'\n",
    "ppi_dir = '/home/j.aguirreplans/data/PPI'\n",
    "wto_results_dir = os.path.join(scratch_data_dir, 'networks_nonresponders_wto_N100')\n",
    "#wto_results_dir = os.path.join(scratch_data_dir, 'example_networks_nonresponders_wto')\n",
    "output_dir = os.path.join(home_data_dir, 'out')\n",
    "plots_dir = os.path.join(output_dir, 'plots')\n",
    "#plots_dir = os.path.join(output_dir, 'plots_example')\n"
   ]
  },
  {
   "cell_type": "code",
   "execution_count": 3,
   "metadata": {},
   "outputs": [
    {
     "name": "stdout",
     "output_type": "stream",
     "text": [
      "List of sample sizes considered: 10, 20, 30, 40, 50\n",
      "Number of repetitions of each sample size: 10\n"
     ]
    }
   ],
   "source": [
    "# Define parameters of bootstrap\n",
    "rep = 10\n",
    "step = 10\n",
    "max_num_samples = 56\n",
    "size_list = list(range(10, max_num_samples+1, step))\n",
    "print('List of sample sizes considered: {}'.format(', '.join([str(size) for size in size_list])))\n",
    "print('Number of repetitions of each sample size: {}'.format(rep))"
   ]
  },
  {
   "cell_type": "code",
   "execution_count": 31,
   "metadata": {},
   "outputs": [
    {
     "name": "stdout",
     "output_type": "stream",
     "text": [
      "Runtime for loading the network is 61.561196088790894\n"
     ]
    }
   ],
   "source": [
    "# Parse global network using pandas\n",
    "start = time.time() # Starting time\n",
    "pval_adj_cutoff = 0.05\n",
    "global_network_df = pd.read_csv(global_network_file)\n",
    "global_network_df = network_df[network_df[\"pval.adj\"] < pval_adj_cutoff]\n",
    "end = time.time() # End time\n",
    "print(\"Runtime for loading the network is {}\".format(end-start))\n"
   ]
  },
  {
   "cell_type": "code",
   "execution_count": 32,
   "metadata": {},
   "outputs": [
    {
     "data": {
      "text/html": [
       "<div>\n",
       "<style scoped>\n",
       "    .dataframe tbody tr th:only-of-type {\n",
       "        vertical-align: middle;\n",
       "    }\n",
       "\n",
       "    .dataframe tbody tr th {\n",
       "        vertical-align: top;\n",
       "    }\n",
       "\n",
       "    .dataframe thead th {\n",
       "        text-align: right;\n",
       "    }\n",
       "</style>\n",
       "<table border=\"1\" class=\"dataframe\">\n",
       "  <thead>\n",
       "    <tr style=\"text-align: right;\">\n",
       "      <th></th>\n",
       "      <th>Node.1</th>\n",
       "      <th>Node.2</th>\n",
       "      <th>wTO</th>\n",
       "      <th>pval</th>\n",
       "      <th>pval.adj</th>\n",
       "    </tr>\n",
       "  </thead>\n",
       "  <tbody>\n",
       "    <tr>\n",
       "      <th>0</th>\n",
       "      <td>5S_rRNA</td>\n",
       "      <td>7SK</td>\n",
       "      <td>0.091</td>\n",
       "      <td>0.00</td>\n",
       "      <td>0.000000</td>\n",
       "    </tr>\n",
       "    <tr>\n",
       "      <th>5</th>\n",
       "      <td>A1BG</td>\n",
       "      <td>A1BG-AS1</td>\n",
       "      <td>0.363</td>\n",
       "      <td>0.01</td>\n",
       "      <td>0.038676</td>\n",
       "    </tr>\n",
       "    <tr>\n",
       "      <th>6</th>\n",
       "      <td>5S_rRNA</td>\n",
       "      <td>A2M</td>\n",
       "      <td>0.107</td>\n",
       "      <td>0.01</td>\n",
       "      <td>0.038676</td>\n",
       "    </tr>\n",
       "    <tr>\n",
       "      <th>7</th>\n",
       "      <td>7SK</td>\n",
       "      <td>A2M</td>\n",
       "      <td>0.067</td>\n",
       "      <td>0.01</td>\n",
       "      <td>0.038676</td>\n",
       "    </tr>\n",
       "    <tr>\n",
       "      <th>10</th>\n",
       "      <td>5S_rRNA</td>\n",
       "      <td>A2M-AS1</td>\n",
       "      <td>0.154</td>\n",
       "      <td>0.00</td>\n",
       "      <td>0.000000</td>\n",
       "    </tr>\n",
       "    <tr>\n",
       "      <th>...</th>\n",
       "      <td>...</td>\n",
       "      <td>...</td>\n",
       "      <td>...</td>\n",
       "      <td>...</td>\n",
       "      <td>...</td>\n",
       "    </tr>\n",
       "    <tr>\n",
       "      <th>115390827</th>\n",
       "      <td>ZW10</td>\n",
       "      <td>ZZZ3</td>\n",
       "      <td>0.620</td>\n",
       "      <td>0.00</td>\n",
       "      <td>0.000000</td>\n",
       "    </tr>\n",
       "    <tr>\n",
       "      <th>115390828</th>\n",
       "      <td>ZWILCH</td>\n",
       "      <td>ZZZ3</td>\n",
       "      <td>0.641</td>\n",
       "      <td>0.00</td>\n",
       "      <td>0.000000</td>\n",
       "    </tr>\n",
       "    <tr>\n",
       "      <th>115390829</th>\n",
       "      <td>ZWINT</td>\n",
       "      <td>ZZZ3</td>\n",
       "      <td>0.548</td>\n",
       "      <td>0.01</td>\n",
       "      <td>0.038676</td>\n",
       "    </tr>\n",
       "    <tr>\n",
       "      <th>115390830</th>\n",
       "      <td>ZXDA</td>\n",
       "      <td>ZZZ3</td>\n",
       "      <td>0.633</td>\n",
       "      <td>0.00</td>\n",
       "      <td>0.000000</td>\n",
       "    </tr>\n",
       "    <tr>\n",
       "      <th>115390831</th>\n",
       "      <td>ZXDB</td>\n",
       "      <td>ZZZ3</td>\n",
       "      <td>0.630</td>\n",
       "      <td>0.00</td>\n",
       "      <td>0.000000</td>\n",
       "    </tr>\n",
       "  </tbody>\n",
       "</table>\n",
       "<p>29835534 rows × 5 columns</p>\n",
       "</div>"
      ],
      "text/plain": [
       "            Node.1    Node.2    wTO  pval  pval.adj\n",
       "0          5S_rRNA       7SK  0.091  0.00  0.000000\n",
       "5             A1BG  A1BG-AS1  0.363  0.01  0.038676\n",
       "6          5S_rRNA       A2M  0.107  0.01  0.038676\n",
       "7              7SK       A2M  0.067  0.01  0.038676\n",
       "10         5S_rRNA   A2M-AS1  0.154  0.00  0.000000\n",
       "...            ...       ...    ...   ...       ...\n",
       "115390827     ZW10      ZZZ3  0.620  0.00  0.000000\n",
       "115390828   ZWILCH      ZZZ3  0.641  0.00  0.000000\n",
       "115390829    ZWINT      ZZZ3  0.548  0.01  0.038676\n",
       "115390830     ZXDA      ZZZ3  0.633  0.00  0.000000\n",
       "115390831     ZXDB      ZZZ3  0.630  0.00  0.000000\n",
       "\n",
       "[29835534 rows x 5 columns]"
      ]
     },
     "execution_count": 32,
     "metadata": {},
     "output_type": "execute_result"
    }
   ],
   "source": [
    "global_network_df"
   ]
  },
  {
   "cell_type": "code",
   "execution_count": 33,
   "metadata": {},
   "outputs": [
    {
     "name": "stdout",
     "output_type": "stream",
     "text": [
      "Runtime for sorting the network is 31.155787706375122\n"
     ]
    },
    {
     "name": "stderr",
     "output_type": "stream",
     "text": [
      "/home/j.aguirreplans/.conda/envs/ScipherSampleSizeEnv/lib/python3.7/site-packages/ipykernel_launcher.py:4: SettingWithCopyWarning: \n",
      "A value is trying to be set on a copy of a slice from a DataFrame.\n",
      "Try using .loc[row_indexer,col_indexer] = value instead\n",
      "\n",
      "See the caveats in the documentation: https://pandas.pydata.org/pandas-docs/stable/user_guide/indexing.html#returning-a-view-versus-a-copy\n",
      "  after removing the cwd from sys.path.\n"
     ]
    }
   ],
   "source": [
    "# Sort the edges of the network\n",
    "start = time.time() # Starting time\n",
    "#global_network_sorted_df = global_network_df[[\"Node.1\", \"Node.2\"]].apply(lambda x: sorted(x), axis=1)\n",
    "global_network_df[\"both\"] = global_network_df[[\"Node.1\", \"Node.2\"]].values.tolist()\n",
    "end = time.time() # End time\n",
    "print(\"Runtime for sorting the network is {}\".format(end-start))\n"
   ]
  },
  {
   "cell_type": "code",
   "execution_count": 49,
   "metadata": {},
   "outputs": [
    {
     "data": {
      "text/html": [
       "<div>\n",
       "<style scoped>\n",
       "    .dataframe tbody tr th:only-of-type {\n",
       "        vertical-align: middle;\n",
       "    }\n",
       "\n",
       "    .dataframe tbody tr th {\n",
       "        vertical-align: top;\n",
       "    }\n",
       "\n",
       "    .dataframe thead th {\n",
       "        text-align: right;\n",
       "    }\n",
       "</style>\n",
       "<table border=\"1\" class=\"dataframe\">\n",
       "  <thead>\n",
       "    <tr style=\"text-align: right;\">\n",
       "      <th></th>\n",
       "      <th>Node.1</th>\n",
       "      <th>Node.2</th>\n",
       "      <th>wTO</th>\n",
       "      <th>pval</th>\n",
       "      <th>pval.adj</th>\n",
       "      <th>both</th>\n",
       "    </tr>\n",
       "  </thead>\n",
       "  <tbody>\n",
       "    <tr>\n",
       "      <th>41147046</th>\n",
       "      <td>APMAP</td>\n",
       "      <td>NTNG2</td>\n",
       "      <td>0.196</td>\n",
       "      <td>0.00</td>\n",
       "      <td>0.000000</td>\n",
       "      <td>[APMAP, NTNG2]</td>\n",
       "    </tr>\n",
       "    <tr>\n",
       "      <th>41147049</th>\n",
       "      <td>APOBEC3A</td>\n",
       "      <td>NTNG2</td>\n",
       "      <td>0.192</td>\n",
       "      <td>0.01</td>\n",
       "      <td>0.038676</td>\n",
       "      <td>[APOBEC3A, NTNG2]</td>\n",
       "    </tr>\n",
       "    <tr>\n",
       "      <th>41147057</th>\n",
       "      <td>APOL1</td>\n",
       "      <td>NTNG2</td>\n",
       "      <td>0.210</td>\n",
       "      <td>0.01</td>\n",
       "      <td>0.038676</td>\n",
       "      <td>[APOL1, NTNG2]</td>\n",
       "    </tr>\n",
       "    <tr>\n",
       "      <th>41147058</th>\n",
       "      <td>APOL2</td>\n",
       "      <td>NTNG2</td>\n",
       "      <td>0.222</td>\n",
       "      <td>0.01</td>\n",
       "      <td>0.038676</td>\n",
       "      <td>[APOL2, NTNG2]</td>\n",
       "    </tr>\n",
       "    <tr>\n",
       "      <th>41147072</th>\n",
       "      <td>AQP1</td>\n",
       "      <td>NTNG2</td>\n",
       "      <td>0.172</td>\n",
       "      <td>0.01</td>\n",
       "      <td>0.038676</td>\n",
       "      <td>[AQP1, NTNG2]</td>\n",
       "    </tr>\n",
       "    <tr>\n",
       "      <th>41147075</th>\n",
       "      <td>AQP9</td>\n",
       "      <td>NTNG2</td>\n",
       "      <td>0.055</td>\n",
       "      <td>0.01</td>\n",
       "      <td>0.038676</td>\n",
       "      <td>[AQP9, NTNG2]</td>\n",
       "    </tr>\n",
       "    <tr>\n",
       "      <th>41147084</th>\n",
       "      <td>ARF1</td>\n",
       "      <td>NTNG2</td>\n",
       "      <td>0.307</td>\n",
       "      <td>0.00</td>\n",
       "      <td>0.000000</td>\n",
       "      <td>[ARF1, NTNG2]</td>\n",
       "    </tr>\n",
       "    <tr>\n",
       "      <th>41147103</th>\n",
       "      <td>ARHGAP11B</td>\n",
       "      <td>NTNG2</td>\n",
       "      <td>-0.180</td>\n",
       "      <td>0.01</td>\n",
       "      <td>0.038676</td>\n",
       "      <td>[ARHGAP11B, NTNG2]</td>\n",
       "    </tr>\n",
       "    <tr>\n",
       "      <th>41147116</th>\n",
       "      <td>ARHGAP27</td>\n",
       "      <td>NTNG2</td>\n",
       "      <td>0.361</td>\n",
       "      <td>0.00</td>\n",
       "      <td>0.000000</td>\n",
       "      <td>[ARHGAP27, NTNG2]</td>\n",
       "    </tr>\n",
       "    <tr>\n",
       "      <th>41147125</th>\n",
       "      <td>ARHGAP44</td>\n",
       "      <td>NTNG2</td>\n",
       "      <td>0.139</td>\n",
       "      <td>0.01</td>\n",
       "      <td>0.038676</td>\n",
       "      <td>[ARHGAP44, NTNG2]</td>\n",
       "    </tr>\n",
       "    <tr>\n",
       "      <th>41147128</th>\n",
       "      <td>ARHGAP9</td>\n",
       "      <td>NTNG2</td>\n",
       "      <td>0.292</td>\n",
       "      <td>0.00</td>\n",
       "      <td>0.000000</td>\n",
       "      <td>[ARHGAP9, NTNG2]</td>\n",
       "    </tr>\n",
       "    <tr>\n",
       "      <th>41147153</th>\n",
       "      <td>ARID3A</td>\n",
       "      <td>NTNG2</td>\n",
       "      <td>0.384</td>\n",
       "      <td>0.01</td>\n",
       "      <td>0.038676</td>\n",
       "      <td>[ARID3A, NTNG2]</td>\n",
       "    </tr>\n",
       "    <tr>\n",
       "      <th>41147184</th>\n",
       "      <td>ARL8A</td>\n",
       "      <td>NTNG2</td>\n",
       "      <td>0.281</td>\n",
       "      <td>0.00</td>\n",
       "      <td>0.000000</td>\n",
       "      <td>[ARL8A, NTNG2]</td>\n",
       "    </tr>\n",
       "    <tr>\n",
       "      <th>41147189</th>\n",
       "      <td>ARMC2</td>\n",
       "      <td>NTNG2</td>\n",
       "      <td>-0.132</td>\n",
       "      <td>0.01</td>\n",
       "      <td>0.038676</td>\n",
       "      <td>[ARMC2, NTNG2]</td>\n",
       "    </tr>\n",
       "    <tr>\n",
       "      <th>41147207</th>\n",
       "      <td>ARPC1B</td>\n",
       "      <td>NTNG2</td>\n",
       "      <td>0.271</td>\n",
       "      <td>0.01</td>\n",
       "      <td>0.038676</td>\n",
       "      <td>[ARPC1B, NTNG2]</td>\n",
       "    </tr>\n",
       "    <tr>\n",
       "      <th>41147210</th>\n",
       "      <td>ARPC4</td>\n",
       "      <td>NTNG2</td>\n",
       "      <td>0.197</td>\n",
       "      <td>0.00</td>\n",
       "      <td>0.000000</td>\n",
       "      <td>[ARPC4, NTNG2]</td>\n",
       "    </tr>\n",
       "    <tr>\n",
       "      <th>41147216</th>\n",
       "      <td>ARRB2</td>\n",
       "      <td>NTNG2</td>\n",
       "      <td>0.293</td>\n",
       "      <td>0.00</td>\n",
       "      <td>0.000000</td>\n",
       "      <td>[ARRB2, NTNG2]</td>\n",
       "    </tr>\n",
       "    <tr>\n",
       "      <th>41147223</th>\n",
       "      <td>ARSA</td>\n",
       "      <td>NTNG2</td>\n",
       "      <td>0.337</td>\n",
       "      <td>0.01</td>\n",
       "      <td>0.038676</td>\n",
       "      <td>[ARSA, NTNG2]</td>\n",
       "    </tr>\n",
       "    <tr>\n",
       "      <th>41147248</th>\n",
       "      <td>ASF1B</td>\n",
       "      <td>NTNG2</td>\n",
       "      <td>0.219</td>\n",
       "      <td>0.01</td>\n",
       "      <td>0.038676</td>\n",
       "      <td>[ASF1B, NTNG2]</td>\n",
       "    </tr>\n",
       "    <tr>\n",
       "      <th>41147260</th>\n",
       "      <td>ASPHD2</td>\n",
       "      <td>NTNG2</td>\n",
       "      <td>-0.030</td>\n",
       "      <td>0.01</td>\n",
       "      <td>0.038676</td>\n",
       "      <td>[ASPHD2, NTNG2]</td>\n",
       "    </tr>\n",
       "  </tbody>\n",
       "</table>\n",
       "</div>"
      ],
      "text/plain": [
       "             Node.1 Node.2    wTO  pval  pval.adj                both\n",
       "41147046      APMAP  NTNG2  0.196  0.00  0.000000      [APMAP, NTNG2]\n",
       "41147049   APOBEC3A  NTNG2  0.192  0.01  0.038676   [APOBEC3A, NTNG2]\n",
       "41147057      APOL1  NTNG2  0.210  0.01  0.038676      [APOL1, NTNG2]\n",
       "41147058      APOL2  NTNG2  0.222  0.01  0.038676      [APOL2, NTNG2]\n",
       "41147072       AQP1  NTNG2  0.172  0.01  0.038676       [AQP1, NTNG2]\n",
       "41147075       AQP9  NTNG2  0.055  0.01  0.038676       [AQP9, NTNG2]\n",
       "41147084       ARF1  NTNG2  0.307  0.00  0.000000       [ARF1, NTNG2]\n",
       "41147103  ARHGAP11B  NTNG2 -0.180  0.01  0.038676  [ARHGAP11B, NTNG2]\n",
       "41147116   ARHGAP27  NTNG2  0.361  0.00  0.000000   [ARHGAP27, NTNG2]\n",
       "41147125   ARHGAP44  NTNG2  0.139  0.01  0.038676   [ARHGAP44, NTNG2]\n",
       "41147128    ARHGAP9  NTNG2  0.292  0.00  0.000000    [ARHGAP9, NTNG2]\n",
       "41147153     ARID3A  NTNG2  0.384  0.01  0.038676     [ARID3A, NTNG2]\n",
       "41147184      ARL8A  NTNG2  0.281  0.00  0.000000      [ARL8A, NTNG2]\n",
       "41147189      ARMC2  NTNG2 -0.132  0.01  0.038676      [ARMC2, NTNG2]\n",
       "41147207     ARPC1B  NTNG2  0.271  0.01  0.038676     [ARPC1B, NTNG2]\n",
       "41147210      ARPC4  NTNG2  0.197  0.00  0.000000      [ARPC4, NTNG2]\n",
       "41147216      ARRB2  NTNG2  0.293  0.00  0.000000      [ARRB2, NTNG2]\n",
       "41147223       ARSA  NTNG2  0.337  0.01  0.038676       [ARSA, NTNG2]\n",
       "41147248      ASF1B  NTNG2  0.219  0.01  0.038676      [ASF1B, NTNG2]\n",
       "41147260     ASPHD2  NTNG2 -0.030  0.01  0.038676     [ASPHD2, NTNG2]"
      ]
     },
     "execution_count": 49,
     "metadata": {},
     "output_type": "execute_result"
    }
   ],
   "source": [
    "global_network_df[10000000:10000020]"
   ]
  },
  {
   "cell_type": "code",
   "execution_count": null,
   "metadata": {},
   "outputs": [],
   "source": []
  },
  {
   "cell_type": "code",
   "execution_count": 35,
   "metadata": {},
   "outputs": [
    {
     "name": "stdout",
     "output_type": "stream",
     "text": [
      "Runtime for sorting the network is 29.31928300857544\n"
     ]
    }
   ],
   "source": [
    "# Sort the edges of the network\n",
    "start = time.time() # Starting time\n",
    "global_network_edges = global_network_df[\"both\"].apply(lambda x: sorted(x))\n",
    "end = time.time() # End time\n",
    "print(\"Runtime for sorting the network is {}\".format(end-start))\n"
   ]
  },
  {
   "cell_type": "code",
   "execution_count": 50,
   "metadata": {},
   "outputs": [
    {
     "data": {
      "text/plain": [
       "41147046        [APMAP, NTNG2]\n",
       "41147049     [APOBEC3A, NTNG2]\n",
       "41147057        [APOL1, NTNG2]\n",
       "41147058        [APOL2, NTNG2]\n",
       "41147072         [AQP1, NTNG2]\n",
       "41147075         [AQP9, NTNG2]\n",
       "41147084         [ARF1, NTNG2]\n",
       "41147103    [ARHGAP11B, NTNG2]\n",
       "41147116     [ARHGAP27, NTNG2]\n",
       "41147125     [ARHGAP44, NTNG2]\n",
       "41147128      [ARHGAP9, NTNG2]\n",
       "41147153       [ARID3A, NTNG2]\n",
       "41147184        [ARL8A, NTNG2]\n",
       "41147189        [ARMC2, NTNG2]\n",
       "41147207       [ARPC1B, NTNG2]\n",
       "41147210        [ARPC4, NTNG2]\n",
       "41147216        [ARRB2, NTNG2]\n",
       "41147223         [ARSA, NTNG2]\n",
       "41147248        [ASF1B, NTNG2]\n",
       "41147260       [ASPHD2, NTNG2]\n",
       "Name: both, dtype: object"
      ]
     },
     "execution_count": 50,
     "metadata": {},
     "output_type": "execute_result"
    }
   ],
   "source": [
    "global_network_edges[10000000:10000020]\n"
   ]
  },
  {
   "cell_type": "code",
   "execution_count": null,
   "metadata": {},
   "outputs": [],
   "source": []
  },
  {
   "cell_type": "code",
   "execution_count": null,
   "metadata": {},
   "outputs": [],
   "source": []
  },
  {
   "cell_type": "code",
   "execution_count": 5,
   "metadata": {},
   "outputs": [
    {
     "name": "stdout",
     "output_type": "stream",
     "text": [
      "Runtime for loading the network is 141.1483850479126\n",
      "Global gene co-expression network: 15192 nodes and 29835534 edges\n"
     ]
    }
   ],
   "source": [
    "# Create network object (using GT)\n",
    "start = time.time() # Starting time\n",
    "network = gt.Graph(directed=False)\n",
    "network_ids = network.add_edge_list(global_network_df[[\"Node.1\", \"Node.2\"]].values, hashed=True)\n",
    "end = time.time() # End time\n",
    "print(\"Runtime for loading the network into Graph-Tool is {}\".format(end-start))\n",
    "print('Global gene co-expression network: {} nodes and {} edges'.format(len(global_sig_network.get_vertices()), len(global_sig_network.get_edges())))\n"
   ]
  },
  {
   "cell_type": "code",
   "execution_count": null,
   "metadata": {},
   "outputs": [],
   "source": [
    "df = pd.DataFrame({\"s\": [], \"t\": []})"
   ]
  },
  {
   "cell_type": "code",
   "execution_count": 21,
   "metadata": {},
   "outputs": [
    {
     "name": "stdout",
     "output_type": "stream",
     "text": [
      "Runtime for loading the nodes is 0.045685529708862305\n",
      "Runtime for loading the edges is 234.03956198692322\n",
      "Global gene co-expression network: 15192 nodes and 29835534 edges\n"
     ]
    }
   ],
   "source": [
    "start = time.time() # Starting time\n",
    "global_sig_network_nodes = set(global_sig_ids)\n",
    "end = time.time() # End time\n",
    "print(\"Runtime for loading the nodes is {}\".format(end-start))\n",
    "start = time.time() # Starting time\n",
    "global_sig_network_edges = [sorted([global_sig_ids[u], global_sig_ids[v]]) for u,v in global_sig_network.get_edges()]\n",
    "end = time.time() # End time\n",
    "print(\"Runtime for loading the edges is {}\".format(end-start))\n",
    "print('Global gene co-expression network: {} nodes and {} edges'.format(len(global_sig_network_nodes), len(global_sig_network_edges)))\n"
   ]
  },
  {
   "cell_type": "code",
   "execution_count": 7,
   "metadata": {},
   "outputs": [
    {
     "name": "stdout",
     "output_type": "stream",
     "text": [
      "Runtime for loading the network is 166.07460260391235\n",
      "Global gene co-expression network: 15192 nodes and 29835534 edges\n"
     ]
    }
   ],
   "source": [
    "# Parse global network (using NX)\n",
    "global_network_file = os.path.join(wto_results_dir, 'wto_RNAseq_NonResponders_all.net')\n",
    "\n",
    "start = time.time() # Starting time\n",
    "global_sig_network_nx = canx.parse_significant_coexpression_network_from_wto(global_network_file, pval_adj_cutoff=0.05)\n",
    "end = time.time() # End time\n",
    "print(\"Runtime for loading the network is {}\".format(end-start))\n",
    "\n",
    "print('Global gene co-expression network: {} nodes and {} edges'.format(len(global_sig_network.nodes()), len(global_sig_network.edges())))\n",
    "#global_sig_network_nodes = set(global_sig_network_nx.nodes())\n",
    "#global_sig_network_edges = set(global_sig_network_nx.edges())\n"
   ]
  },
  {
   "cell_type": "code",
   "execution_count": null,
   "metadata": {},
   "outputs": [],
   "source": [
    "# Parse PPI network\n",
    "#ppi_network_file = os.path.join(ppi_dir, 'interactome_2019_merged.csv')\n",
    "#ppi_info_file = os.path.join(ppi_dir, 'interactome_2019_merged_protAnnots.csv')\n",
    "#ppi_info = pd.read_csv(ppi_info_file, index_col=0, header=0) # Read PPI info\n",
    "#ppi = parse_ppi_network_with_networkx(ppi_network_file)\n",
    "#print('PPI network: {} nodes and {} edges'.format(len(ppi.nodes()), len(ppi.edges())))\n",
    "#ppi = parse_ppi_network_with_graphtools(ppi_network_file)\n",
    "#print('PPI network: {} nodes and {} edges'.format(len(ppi.get_vertices()), len(ppi.get_edges())))\n"
   ]
  },
  {
   "cell_type": "code",
   "execution_count": 7,
   "metadata": {},
   "outputs": [],
   "source": [
    "# Parse disease genes associated to diseases with 20 genes or more\n",
    "disease_genes_file = '/home/j.aguirreplans/Projects/Scipher/SampleSize/data/Guney2016_GenesDisease.tsv'\n",
    "disease2genes = {}\n",
    "for i in open(disease_genes_file).readlines():\n",
    "    v = i.rstrip().split('\\t')\n",
    "    disease = v[1]\n",
    "    genes = v[2:]\n",
    "    if len(genes) > 19:\n",
    "        disease2genes[disease] = [int(i) for i in genes]"
   ]
  },
  {
   "cell_type": "code",
   "execution_count": 11,
   "metadata": {},
   "outputs": [
    {
     "data": {
      "text/plain": [
       "3173"
      ]
     },
     "execution_count": 11,
     "metadata": {},
     "output_type": "execute_result"
    }
   ],
   "source": [
    "diseasegenes = list(disease2genes.values())\n",
    "diseasegenes = sum(diseasegenes, [])\n",
    "diseasegenes = list(set(diseasegenes))\n",
    "len(diseasegenes)"
   ]
  },
  {
   "cell_type": "code",
   "execution_count": null,
   "metadata": {},
   "outputs": [],
   "source": []
  },
  {
   "cell_type": "code",
   "execution_count": 13,
   "metadata": {},
   "outputs": [
    {
     "name": "stdout",
     "output_type": "stream",
     "text": [
      "RA: 447 genes, 0 genes in gene co-expression network\n",
      "51\n"
     ]
    }
   ],
   "source": [
    "# Parse RA genes\n",
    "ra_file = os.path.join(home_data_dir, 'RA_Genes.txt')\n",
    "RA_genes = list(pd.read_csv(ra_file, sep=' ', header=None).iloc[:, 0])\n",
    "RA_genes_network = [gene for gene in RA_genes if gene in global_sig_network_nodes]\n",
    "print('RA: {} genes, {} genes in gene co-expression network'.format(len(RA_genes), len(RA_genes_network)))\n",
    "#print(RA_genes_network)\n",
    "print(len(disease2genes['arthritis, rheumatoid']))\n"
   ]
  },
  {
   "cell_type": "code",
   "execution_count": null,
   "metadata": {},
   "outputs": [],
   "source": [
    "# Parse subsample networks\n",
    "size_df = pd.DataFrame(columns=['size', 'rep', 'nodes', 'edges'])\n",
    "composition_df = pd.DataFrame(columns=['size', 'rep', 'nodes', 'edges', 'lost_or_gained'])\n",
    "kendall_df = pd.DataFrame(columns=['size', 'kendall'])\n",
    "components_df = pd.DataFrame(columns=['size', 'rep', 'num_components', 'size_lcc'])\n",
    "RA_df = pd.DataFrame(columns=['size', 'rep', 'RA_genes_in_network', 'RA_lcc_size'])\n",
    "for size in size_list:\n",
    "    #wto_list_of_same_sample_size = []\n",
    "    for r in range(1, rep+1):\n",
    "        subsample_network_file = os.path.join(wto_results_dir, 'wto_RNAseq_NonResponders_sample_{}_rep_{}.net'.format(size, r))\n",
    "        if fileExist(subsample_network_file):\n",
    "\n",
    "\n",
    "            # Parse subsample network\n",
    "            start = time.time() # Starting time\n",
    "            #subsample_network = parse_coexpression_network_from_wto_with_networkx(subsample_network_file)\n",
    "            subsample_sig_network = parse_significant_coexpression_network_from_wto_with_networkx(subsample_network_file, pval_adj_cutoff=pval_adj_cutoff)\n",
    "            print('THE NETWORK HAS {} EDGES AND {} NODES'.format(len(subsample_sig_network.edges()), len(subsample_sig_network.nodes())))\n",
    "\n",
    "            # Get weights & ranks associated to weights\n",
    "            #wto_weights = [subsample_network[u][v]['wto'] for u,v in global_network.edges()]\n",
    "            #wto_ranks = scipy.stats.rankdata(wto_weights)\n",
    "            #wto_list_of_same_sample_size.append(wto_ranks)\n",
    "            \n",
    "            # Get significant network\n",
    "            #subsample_sig_network = filter_network_by_pval_adj_with_networkx(subsample_network, pval_adj_cutoff)\n",
    "            #print('THE NETWORK HAS {} EDGES AND {} NODES'.format(len(subsample_sig_network.edges()), len(subsample_sig_network.nodes())))\n",
    "            df2 = pd.DataFrame([[size, r, len(subsample_sig_network.nodes()), len(subsample_sig_network.edges())]], columns=['size', 'rep', 'nodes', 'edges'])\n",
    "            #subsample_network, subsample_network_wto_prop, subsample_network_pval_adj_prop = parse_coexpression_network_from_wto_with_graphtools(subsample_network_file)\n",
    "            #subsample_sig_network = filter_network_by_pval_adj_with_graphtools(subsample_network, subsample_network_pval_adj_prop, pval_adj_cutoff)\n",
    "            #print('Subsample gene co-expression network: {} nodes and {} edges'.format(len(subsample_sig_network.get_vertices()), len(subsample_sig_network.get_edges())))\n",
    "            #df2 = pd.DataFrame([[size, r, len(subsample_sig_network.get_vertices()), len(subsample_sig_network.get_edges())]], columns=['size', 'rep', 'nodes', 'edges'])\n",
    "            size_df = size_df.append(df2)\n",
    "            end = time.time() # End time\n",
    "            print(\"Runtime for loading the network in sample size {} and rep {} is {}\".format(size, r, end-start))\n",
    "\n",
    "            # Get components and LCC\n",
    "            start = time.time() # Starting time\n",
    "            subsample_sig_components = network_utilities.get_connected_components(G=subsample_sig_network, return_as_graph_list=False)\n",
    "            subsample_sig_lcc = subsample_sig_network.subgraph(subsample_sig_components[0])\n",
    "            df2 = pd.DataFrame([[size, r, len(subsample_sig_components), len(subsample_sig_lcc.nodes())]], columns=['size', 'rep', 'num_components', 'size_lcc'])\n",
    "            components_df = components_df.append(df2)\n",
    "            subsample_sig_components = []\n",
    "            subsample_sig_lcc = []\n",
    "            end = time.time() # End time\n",
    "            print(\"Runtime for calculating the components in sample size {} and rep {} is {}\".format(size, r, end-start))\n",
    "\n",
    "            # Get connected RA genes\n",
    "            start = time.time() # Starting time\n",
    "            RA_subgraph = subsample_sig_network.subgraph(RA_genes)\n",
    "            RA_components = network_utilities.get_connected_components(G=RA_subgraph, return_as_graph_list=False)\n",
    "            RA_lcc = RA_subgraph.subgraph(RA_components[0])\n",
    "            df2 = pd.DataFrame([[size, r, len(RA_subgraph.nodes()), len(RA_lcc.nodes())]], columns=['size', 'rep', 'RA_genes_in_network', 'RA_lcc_size'])\n",
    "            RA_df = RA_df.append(df2)\n",
    "            RA_subgraph = []\n",
    "            RA_components = []\n",
    "            RA_lcc = []\n",
    "            end = time.time() # End time\n",
    "            print(\"Runtime for calculating the RA genes in sample size {} and rep {} is {}\".format(size, r, end-start))\n",
    "\n",
    "            # Calculate differences between global and subsample network\n",
    "            start = time.time() # Starting time\n",
    "            subsample_sig_network_edges = set(subsample_sig_network.edges())\n",
    "            end = time.time() # End time\n",
    "            print(\"Runtime for calculating the set of edges in sample size {} and rep {} is {}\".format(size, r, end-start))\n",
    "            start = time.time() # Starting time\n",
    "            subsample_sig_network_nodes = set(subsample_sig_network.nodes())\n",
    "            end = time.time() # End time\n",
    "            print(\"Runtime for calculating the set of nodes in sample size {} and rep {} is {}\".format(size, r, end-start))\n",
    "            start = time.time() # Starting time\n",
    "            #lost_nodes, gained_nodes, lost_edges, gained_edges = calculate_difference_between_networks_with_networkx(global_sig_network, subsample_sig_network)\n",
    "            lost_nodes, gained_nodes, lost_edges, gained_edges = calculate_difference_between_networks_with_networkx(global_sig_network_nodes, global_sig_network_edges, subsample_sig_network_nodes, subsample_sig_network_edges)\n",
    "            #print(size, r, len(lost_edges), len(gained_edges))\n",
    "            df3 = pd.DataFrame([[size, r, len(lost_nodes), len(lost_edges), 'lost']], columns=['size', 'rep', 'nodes', 'edges', 'lost_or_gained'])\n",
    "            composition_df = composition_df.append(df3)\n",
    "            #lost_nodes, gained_nodes, lost_edges, gained_edges = calculate_difference_between_networks_with_graphtools(global_sig_network, subsample_sig_network)\n",
    "            #df3 = pd.DataFrame([[size, r, len(lost_nodes), len(lost_edges), 'lost']], columns=['size', 'rep', 'nodes', 'edges', 'lost_or_gained'])\n",
    "            #composition_df = composition_df.append(df3)\n",
    "            df4 = pd.DataFrame([[size, r, len(gained_nodes), len(gained_edges), 'gained']], columns=['size', 'rep', 'nodes', 'edges', 'lost_or_gained'])\n",
    "            composition_df = composition_df.append(df4)\n",
    "            subsample_sig_network_edges = []\n",
    "            subsample_sig_network_nodes = []\n",
    "            lost_nodes = []\n",
    "            lost_edges = []\n",
    "            gained_nodes = []\n",
    "            gained_edges = []\n",
    "            end = time.time() # End time\n",
    "            print(\"Runtime for calculating the composition in sample size {} and rep {} is {}\".format(size, r, end-start))\n",
    "\n",
    "        else:\n",
    "            print('Missing file: {}'.format(subsample_network_file))\n",
    "        #break\n",
    "    #W, count = calculate_kendall(np.array(wto_list_of_same_sample_size), n_permutations=1000)\n",
    "    #df5 = pd.DataFrame([[size, W]], columns=['size', 'kendall'])\n",
    "    #kendall_df = kendall_df.append(df5)\n",
    "    #break\n",
    "#print(size_df)\n",
    "#print(composition_df)\n",
    "#print(components_df)\n",
    "#print(RA_df)\n"
   ]
  },
  {
   "cell_type": "markdown",
   "metadata": {},
   "source": [
    "### Sample size effect on network size"
   ]
  },
  {
   "cell_type": "markdown",
   "metadata": {},
   "source": [
    "I plot the number of nodes and edges of the different networks with respect to the sample size."
   ]
  },
  {
   "cell_type": "code",
   "execution_count": null,
   "metadata": {},
   "outputs": [],
   "source": [
    "# Plot num. of nodes vs sample size\n",
    "fig = pylab.figure(dpi=300)\n",
    "sns.boxplot(data=size_df, x='size', y='nodes', color='dodgerblue')\n",
    "plt.title('Number of nodes vs. sample size')\n",
    "plt.xlabel('Sample size')\n",
    "plt.ylabel('Number of nodes')\n",
    "pylab.savefig(os.path.join(plots_dir, 'num_nodes_vs_sample_size.png'), format='png')\n",
    "plt.show()\n",
    "\n",
    "# Plot num. of edges vs sample size\n",
    "fig = pylab.figure(dpi=300)\n",
    "sns.boxplot(data=size_df, x='size', y='edges', color='dodgerblue')\n",
    "plt.title('Number of edges vs. sample size')\n",
    "plt.xlabel('Sample size')\n",
    "plt.ylabel('Number of edges')\n",
    "pylab.savefig(os.path.join(plots_dir, 'num_edges_vs_sample_size.png'), format='png')\n",
    "plt.show()"
   ]
  },
  {
   "cell_type": "markdown",
   "metadata": {},
   "source": [
    "### Sample size effect in network composition"
   ]
  },
  {
   "cell_type": "markdown",
   "metadata": {},
   "source": [
    "Here, I check the impact of sample size in the composition of nodes and edges of gene co-expression networks. With this purpose, I check the number of lost and gained edges with respect to the network that has the 100% of samples."
   ]
  },
  {
   "cell_type": "code",
   "execution_count": null,
   "metadata": {},
   "outputs": [],
   "source": [
    "# Plot num. of nodes lost and gained vs sample size\n",
    "fig = pylab.figure(dpi=300)\n",
    "sns.boxplot(data=composition_df, x=\"size\", y=\"nodes\", hue=\"lost_or_gained\", palette=[\"dodgerblue\", \"gold\"])\n",
    "plt.title('Number of lost and gained nodes vs. sample size')\n",
    "plt.xlabel('Sample size')\n",
    "plt.ylabel('Number of nodes')\n",
    "pylab.savefig(os.path.join(plots_dir, 'num_lost_nodes_vs_sample_size.png'), format='png')\n",
    "plt.show()\n",
    "\n",
    "# Plot num. of edges lost and gained vs sample size\n",
    "fig = pylab.figure(dpi=300)\n",
    "sns.boxplot(data=composition_df, x=\"size\", y=\"edges\", hue=\"lost_or_gained\", palette=[\"dodgerblue\", \"gold\"])\n",
    "plt.title('Number of lost and gained edges vs. sample size')\n",
    "plt.xlabel('Sample size')\n",
    "plt.ylabel('Number of edges')\n",
    "pylab.savefig(os.path.join(plots_dir, 'num_lost_edges_vs_sample_size.png'), format='png')\n",
    "plt.show()"
   ]
  },
  {
   "cell_type": "markdown",
   "metadata": {},
   "source": [
    "### Sample size effect on the number of components and size of the LCC"
   ]
  },
  {
   "cell_type": "code",
   "execution_count": null,
   "metadata": {},
   "outputs": [],
   "source": [
    "# Plot num. of components vs. sample size\n",
    "fig = pylab.figure(dpi=300)\n",
    "sns.boxplot(data=components_df, x='size', y='num_components', color='dodgerblue')\n",
    "plt.title('Number of connected components in the gene co-expression network')\n",
    "plt.xlabel('Sample size')\n",
    "plt.ylabel('Number of connected components')\n",
    "pylab.savefig(os.path.join(plots_dir, 'num_connected_components_vs_sample_size.png'), format='png')\n",
    "plt.show()\n"
   ]
  },
  {
   "cell_type": "code",
   "execution_count": null,
   "metadata": {},
   "outputs": [],
   "source": [
    "# Plot num. of components vs. sample size\n",
    "fig = pylab.figure(dpi=300)\n",
    "sns.boxplot(data=components_df, x='size', y='size_lcc', color='dodgerblue')\n",
    "plt.title('Size of the LCC in the gene co-expression network')\n",
    "plt.xlabel('Sample size')\n",
    "plt.ylabel('Number of nodes in the LCC')\n",
    "pylab.savefig(os.path.join(plots_dir, 'LCC_size_vs_sample_size.png'), format='png')\n",
    "plt.show()\n"
   ]
  },
  {
   "cell_type": "markdown",
   "metadata": {},
   "source": [
    "## Sample size effect on reproducibility of the network"
   ]
  },
  {
   "cell_type": "code",
   "execution_count": null,
   "metadata": {},
   "outputs": [],
   "source": [
    "#fig = pylab.figure(dpi=300)\n",
    "#sns.lineplot(data=kendall_df, x=\"size\", y=\"kendall\", marker=\"o\")\n",
    "#plt.title('Kendall\\'s W vs. sample size')\n",
    "#plt.xlabel('Sample size')\n",
    "#plt.ylabel('Kendall\\'s W')\n",
    "#pylab.savefig(os.path.join(plots_dir, 'kendall_vs_sample_size.png'), format='png')\n",
    "#plt.show()"
   ]
  },
  {
   "cell_type": "markdown",
   "metadata": {},
   "source": [
    "## Sample size effect on RA module identification"
   ]
  },
  {
   "cell_type": "code",
   "execution_count": null,
   "metadata": {},
   "outputs": [],
   "source": [
    "# Plot num. of RA genes in the network vs. sample size\n",
    "fig = pylab.figure(dpi=300)\n",
    "sns.boxplot(data=RA_df, x='size', y='RA_genes_in_network', color='dodgerblue')\n",
    "plt.title('Sample size vs number of RA genes in the network')\n",
    "plt.xlabel('Sample size')\n",
    "plt.ylabel('Number of RA genes in the network')\n",
    "pylab.savefig(os.path.join(plots_dir, 'RA_genes_in_network_vs_sample_size.png'), format='png')\n",
    "plt.show()\n"
   ]
  },
  {
   "cell_type": "code",
   "execution_count": null,
   "metadata": {},
   "outputs": [],
   "source": [
    "# Plot size of RA LCC in the network vs. sample size\n",
    "fig = pylab.figure(dpi=300)\n",
    "sns.boxplot(data=RA_df, x='size', y='RA_lcc_size', color='dodgerblue')\n",
    "plt.title('Sample size vs size of RA LCC in the gene co-expression network')\n",
    "plt.xlabel('Sample size')\n",
    "plt.ylabel('Number of nodes in the RA LCC')\n",
    "pylab.savefig(os.path.join(plots_dir, 'RA_LCC_size_in_network_vs_sample_size.png'), format='png')\n",
    "plt.show()\n"
   ]
  },
  {
   "cell_type": "code",
   "execution_count": null,
   "metadata": {},
   "outputs": [],
   "source": []
  }
 ],
 "metadata": {
  "kernelspec": {
   "display_name": "Python 3",
   "language": "python",
   "name": "python3"
  },
  "language_info": {
   "codemirror_mode": {
    "name": "ipython",
    "version": 3
   },
   "file_extension": ".py",
   "mimetype": "text/x-python",
   "name": "python",
   "nbconvert_exporter": "python",
   "pygments_lexer": "ipython3",
   "version": "3.7.10"
  }
 },
 "nbformat": 4,
 "nbformat_minor": 4
}
