{
 "cells": [
  {
   "cell_type": "code",
   "execution_count": 6,
   "id": "d0119c4a-a041-49ee-9a65-55ac4f107284",
   "metadata": {},
   "outputs": [],
   "source": [
    "import sys,os\n",
    "import gzip\n"
   ]
  },
  {
   "cell_type": "code",
   "execution_count": 5,
   "id": "c85a33d0-6cf8-47e1-9083-35fe57007f3a",
   "metadata": {},
   "outputs": [],
   "source": [
    "databases_dir = '/home/j.aguirreplans/Databases'\n",
    "ncbi_gene_dir = os.path.join(databases_dir, \"NCBIGene\")\n",
    "ncbi_gene_info_human_file = os.path.join(ncbi_gene_dir, 'Homo_sapiens.gene_info')\n",
    "ncbi_gene_info_file = os.path.join(ncbi_gene_dir, 'gene_info.gz')\n"
   ]
  },
  {
   "cell_type": "code",
   "execution_count": 7,
   "id": "cb98f543-2fb7-4b07-89ae-02515bfaaba9",
   "metadata": {},
   "outputs": [],
   "source": [
    "f=gzip.open(ncbi_gene_info_file,'rb')\n",
    "file_content=f.read()"
   ]
  },
  {
   "cell_type": "code",
   "execution_count": 15,
   "id": "208321e9-f9f1-4a18-ab50-8a241c6e6a00",
   "metadata": {},
   "outputs": [
    {
     "name": "stdout",
     "output_type": "stream",
     "text": [
      "b'tax_id\\tGeneID\\tSymbol\\tLocusTag\\tSynonyms\\tdbXrefs\\tchromosome\\tmap_location\\tdescription\\ttype_of_gene\\tSymbol_from_nomenclature_authority\\tFull_name_from_nomenclature_authority\\tNomenclature_status\\tOther_designations\\tModification_date\\tFeature_type\\n7\\t5692769\\tNEWENTRY\\t-\\t-\\t-\\t-\\t-\\tRecord to support submission of GeneRIFs for a gene not in Gene (Azotirhizobium caulinodans.  Use when strain, subtype, isolate, etc. is unspecified, or when different from all specified ones in Gene.).\\tother\\t-\\t-\\t-\\t-\\t20210407\\t-\\n9\\t2827857\\tNEWENTRY\\t-\\t-\\t-\\t-\\t-\\tRecord to support submission of GeneRIFs for a gene not in Gene (Use when strain, subtype, isolate, etc. is unspecified, or when different from all specified ones in Gene.).\\tother\\t-\\t-\\t-\\t-\\t20160921\\t-\\n11\\t10823747\\tNEWENTRY\\t-\\t-\\t-\\t-\\t-\\tRecord to support submission of GeneRIFs for a gene not in Gene (Cellvibrio gilvus.  Use when strain, subtype, isolate, etc. is unspecified, or when different from all specified ones in Gene.).\\tother\\t-\\t-\\t-\\t-\\t20190325\\t-\\n14\\t6951813\\tNEWENTRY\\t-\\t-\\t-'\n"
     ]
    }
   ],
   "source": [
    "print(file_content[1:1000])"
   ]
  },
  {
   "cell_type": "code",
   "execution_count": null,
   "id": "a7c888db-4c5b-4fc2-b938-04d0fd71c778",
   "metadata": {},
   "outputs": [],
   "source": []
  },
  {
   "cell_type": "code",
   "execution_count": null,
   "id": "2dd2630e-ad04-4571-bcce-f28a61159ba2",
   "metadata": {},
   "outputs": [],
   "source": []
  },
  {
   "cell_type": "code",
   "execution_count": null,
   "id": "a717c3ed-09de-4d58-9a67-22af250613e3",
   "metadata": {},
   "outputs": [],
   "source": []
  },
  {
   "cell_type": "code",
   "execution_count": null,
   "id": "f0b35f1d-00e7-42f7-84c5-b47cf24eb1ce",
   "metadata": {},
   "outputs": [],
   "source": []
  },
  {
   "cell_type": "code",
   "execution_count": null,
   "id": "589f702f-d5f9-42c5-b97b-79e60895ce47",
   "metadata": {},
   "outputs": [],
   "source": []
  },
  {
   "cell_type": "code",
   "execution_count": null,
   "id": "6caac02a-7eb1-4cb9-a99f-b47e58999236",
   "metadata": {},
   "outputs": [],
   "source": []
  },
  {
   "cell_type": "code",
   "execution_count": null,
   "id": "ebd2926c-3f22-4964-8736-98831ccaf3a9",
   "metadata": {},
   "outputs": [],
   "source": []
  }
 ],
 "metadata": {
  "kernelspec": {
   "display_name": "Python 3",
   "language": "python",
   "name": "python3"
  },
  "language_info": {
   "codemirror_mode": {
    "name": "ipython",
    "version": 3
   },
   "file_extension": ".py",
   "mimetype": "text/x-python",
   "name": "python",
   "nbconvert_exporter": "python",
   "pygments_lexer": "ipython3",
   "version": "3.7.10"
  }
 },
 "nbformat": 4,
 "nbformat_minor": 5
}
